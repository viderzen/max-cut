{
 "cells": [
  {
   "cell_type": "code",
   "execution_count": 5,
   "metadata": {},
   "outputs": [],
   "source": [
    "from dwave.system.samplers import DWaveSampler\n",
    "from dwave.system.composites import FixedEmbeddingComposite, EmbeddingComposite\n",
    "from dwave_networkx.algorithms.max_cut import maximum_cut\n",
    "from minorminer import find_embedding\n",
    "import dwave.inspector\n",
    "import matplotlib.pyplot as plt\n",
    "import matplotlib as mpl\n",
    "import networkx as nx\n",
    "import numpy as np\n",
    "import os, re\n",
    "import json\n",
    "import ast"
   ]
  },
  {
   "cell_type": "code",
   "execution_count": 6,
   "metadata": {},
   "outputs": [],
   "source": [
    "def read_dict_from_file(fname):\n",
    "    \"\"\"\n",
    "    Parameters\n",
    "    ----------\n",
    "    fname : string\n",
    "        Name of a file that contains a dict\n",
    "    \n",
    "    Returns\n",
    "    -------\n",
    "    d : dict\n",
    "        Dictionary contained in the file\n",
    "    \"\"\"\n",
    "    with open(fname, mode='r') as f:\n",
    "        data = f.read()\n",
    "    d = ast.literal_eval(data)\n",
    "    return d\n",
    "\n",
    "def is_complete(graph):\n",
    "    \"\"\" \n",
    "    Parameters\n",
    "    ----------\n",
    "    graph : dict\n",
    "        Form: {edge: weight, ...}\n",
    "    \n",
    "    Returns\n",
    "    -------\n",
    "    is_complete : bool\n",
    "        1 --> graph is complete, 0 --> graph is not complete\n",
    "    \"\"\"\n",
    "    num_nodes, num_edges = len(set( np.array(list( graph.keys() )).flatten() )), len(graph.keys())\n",
    "    return num_edges == num_nodes * (num_nodes - 1) / 2\n",
    "\n",
    "def normalize(edges):\n",
    "    \"\"\" \n",
    "    Parameters\n",
    "    ----------\n",
    "    edges : dict\n",
    "        Form: {edge: weight, ...}\n",
    "    \n",
    "    Returns\n",
    "    -------\n",
    "    normalized_edges : dict\n",
    "        edges with normalized edge weights\n",
    "    \"\"\"\n",
    "    max_weight = np.max(np.absolute(list(edges.values())))\n",
    "    for edge in edges.keys():\n",
    "        edges[edge] /= max_weight\n",
    "    return edges\n",
    "\n",
    "def save_results(response, outfolder):\n",
    "    \"\"\" \n",
    "    Saves output of the annealing into 3 files ('embedding.txt', 'solution.txt', 'timing.txt') in outfolder.\n",
    "\n",
    "    Parameters\n",
    "    ----------\n",
    "    response : D-Wave SampleSet\n",
    "        Outpu of the annealing\n",
    "    \n",
    "    Returns\n",
    "    -------\n",
    "    None\n",
    "    \"\"\"\n",
    "    \n",
    "    def mkdir(dirname):\n",
    "        try:\n",
    "            os.mkdir(dirname)\n",
    "        except FileExistsError:\n",
    "            pass\n",
    "\n",
    "    mkdir(outfolder)\n",
    "\n",
    "    with open(os.path.join(outfolder, 'embedding.txt'), mode='w') as outfile:\n",
    "        d = {'solution': response.first.sample, 'energy': response.first.energy, 'chain_break_fraction': response.first.chain_break_fraction\n",
    "        outfile.write(str(d))\n",
    "    \n",
    "    with open(os.path.join(outfolder, 'solution.txt'), mode='w') as outfile:\n",
    "        outfile.write(str(response.first)[7:])\n",
    "    \n",
    "    with open(os.path.join(outfolder, 'timing.txt'), mode='w') as outfile:\n",
    "        outfile.write(json.dumps(response.info['timing']))"
   ]
  },
  {
   "cell_type": "markdown",
   "metadata": {},
   "source": [
    "### Connect to a sampler"
   ]
  },
  {
   "cell_type": "code",
   "execution_count": 7,
   "metadata": {},
   "outputs": [
    {
     "name": "stdout",
     "output_type": "stream",
     "text": [
      "0: be150.8.1_py.txt\t/home/vid/Documents/max-cut/results/be150.8.1/embedding.txt\n",
      "Done.\n"
     ]
    }
   ],
   "source": [
    "num_reads = 100\n",
    "annealing_time = 30\n",
    "\n",
    "for i, fname in enumerate(os.listdir(os.path.join(os.getcwd(), 'graphs_python_dictionary'))):\n",
    "\n",
    "    if i == 1: break\n",
    "    fname = 'be150.8.1_py.txt'\n",
    "\n",
    "    print(str(i) + ': ' + fname, end='\\t')\n",
    "\n",
    "    # read problem from a file\n",
    "    J_dict = read_dict_from_file(os.path.join('graphs_python_dictionary', fname))\n",
    "    max_chain_strength = np.max(np.absolute(list(J_dict.values())))\n",
    "\n",
    "    # set up field dict to 0 (DWave sampler wants it)\n",
    "    h_dict = {}\n",
    "    for node1, node2 in J_dict.keys():\n",
    "        h_dict[node2] = 0.0\n",
    "        h_dict[node1] = 0.0\n",
    "\n",
    "    # create a problem graph to find embedding\n",
    "    G = nx.Graph(J_dict.keys())\n",
    "\n",
    "    # connect to solver\n",
    "    sampler = DWaveSampler(profile='viderzen_protonmail')\n",
    "    max_slope = 1 / sampler.properties['annealing_time_range'][0]\n",
    "\n",
    "    # find embedding of a problem on DWave QPU\n",
    "    embedding = find_embedding(G, sampler.properties['couplers'], verbose=3)\n",
    "    \n",
    "    # sample problem solutions\n",
    "    sampler = FixedEmbeddingComposite(sampler, embedding)\n",
    "    response1 = sampler.sample_ising(h_dict, J_dict, num_reads=num_reads, annealing_time=annealing_time, chain_strength=2.5*max_chain_strength)\n",
    "\n",
    "    # use best solution (min energy) and check for better solutions in its vicinity with reverse annealing\n",
    "    s = 0.45\n",
    "    init_state = response1.first.sample\n",
    "    anneal_schedule = [[0, 1], [(1-s)/max_slope, s], [(1-s)/max_slope + annealing_time, s], [2*(1-s)/max_slope + annealing_time, 1]]\n",
    "    response2 = sampler.sample_ising(h_dict, J_dict, num_reads=num_reads, chain_strength=2.5*max_chain_strength, anneal_schedule=anneal_schedule, \n",
    "                                    initial_state=init_state, reinitialize_state=True)\n",
    "\n",
    "    # save results and info about results to files\n",
    "    save_results(response2, os.path.join('results', fname[:-7]))\n",
    "\n",
    "    print('Done.')"
   ]
  },
  {
   "cell_type": "code",
   "execution_count": 8,
   "metadata": {},
   "outputs": [
    {
     "data": {
      "text/plain": [
       "Sample(sample={0: 1, 1: 1, 2: -1, 3: -1, 4: 1, 5: 1, 6: 1, 7: -1, 8: -1, 9: 1, 10: -1, 11: -1, 12: 1, 13: -1, 14: -1, 15: 1, 16: -1, 17: 1, 18: -1, 19: 1, 20: -1, 21: -1, 22: 1, 23: 1, 24: -1, 25: -1, 26: 1, 27: -1, 28: 1, 29: -1, 30: -1, 31: 1, 32: -1, 33: -1, 34: 1, 35: -1, 36: 1, 37: 1, 38: -1, 39: -1, 40: -1, 41: -1, 42: 1, 43: 1, 44: 1, 45: -1, 46: -1, 47: -1, 48: -1, 49: -1, 50: -1, 51: 1, 52: -1, 53: -1, 54: 1, 55: -1, 56: 1, 57: -1, 58: 1, 59: -1, 60: 1, 61: -1, 62: 1, 63: -1, 64: -1, 65: -1, 66: 1, 67: -1, 68: 1, 69: -1, 70: 1, 71: -1, 72: -1, 73: -1, 74: -1, 75: -1, 76: 1, 77: -1, 78: 1, 79: -1, 80: -1, 81: -1, 82: 1, 83: -1, 84: 1, 85: 1, 86: -1, 87: -1, 88: -1, 89: 1, 90: 1, 91: -1, 92: 1, 93: 1, 94: 1, 95: 1, 96: -1, 97: -1, 98: -1, 99: 1, 100: -1, 101: 1, 102: 1, 103: -1, 104: -1, 105: 1, 106: -1, 107: -1, 108: -1, 109: -1, 110: 1, 111: 1, 112: 1, 113: -1, 114: -1, 115: -1, 116: -1, 117: -1, 118: 1, 119: -1, 120: -1, 121: 1, 122: -1, 123: 1, 124: 1, 125: -1, 126: -1, 127: -1, 128: -1, 129: 1, 130: -1, 131: 1, 132: -1, 133: -1, 134: -1, 135: 1, 136: -1, 137: -1, 138: 1, 139: -1, 140: 1, 141: -1, 142: -1, 143: 1, 144: 1, 145: -1, 146: -1, 147: -1, 148: 1, 149: 1, 150: -1}, energy=-7693.25, num_occurrences=1, chain_break_fraction=0.033112582781456956)"
      ]
     },
     "execution_count": 8,
     "metadata": {},
     "output_type": "execute_result"
    }
   ],
   "source": [
    "response1.first"
   ]
  },
  {
   "cell_type": "code",
   "execution_count": 9,
   "metadata": {},
   "outputs": [
    {
     "data": {
      "text/plain": [
       "Sample(sample={0: 1, 1: 1, 2: -1, 3: -1, 4: 1, 5: 1, 6: 1, 7: -1, 8: -1, 9: 1, 10: -1, 11: -1, 12: 1, 13: -1, 14: -1, 15: 1, 16: -1, 17: 1, 18: -1, 19: 1, 20: -1, 21: -1, 22: 1, 23: 1, 24: -1, 25: -1, 26: 1, 27: -1, 28: 1, 29: -1, 30: -1, 31: 1, 32: -1, 33: -1, 34: 1, 35: -1, 36: 1, 37: 1, 38: -1, 39: -1, 40: -1, 41: -1, 42: 1, 43: 1, 44: 1, 45: -1, 46: -1, 47: -1, 48: -1, 49: -1, 50: -1, 51: 1, 52: -1, 53: -1, 54: 1, 55: -1, 56: 1, 57: -1, 58: 1, 59: -1, 60: 1, 61: -1, 62: 1, 63: -1, 64: -1, 65: -1, 66: 1, 67: -1, 68: 1, 69: -1, 70: 1, 71: -1, 72: -1, 73: -1, 74: -1, 75: -1, 76: 1, 77: -1, 78: 1, 79: -1, 80: -1, 81: -1, 82: 1, 83: -1, 84: 1, 85: 1, 86: -1, 87: -1, 88: 1, 89: -1, 90: -1, 91: -1, 92: -1, 93: 1, 94: 1, 95: 1, 96: -1, 97: -1, 98: -1, 99: 1, 100: -1, 101: 1, 102: 1, 103: -1, 104: -1, 105: 1, 106: 1, 107: -1, 108: -1, 109: -1, 110: 1, 111: 1, 112: 1, 113: 1, 114: -1, 115: -1, 116: -1, 117: -1, 118: 1, 119: -1, 120: -1, 121: 1, 122: -1, 123: 1, 124: 1, 125: -1, 126: -1, 127: -1, 128: -1, 129: 1, 130: -1, 131: 1, 132: -1, 133: 1, 134: -1, 135: 1, 136: -1, 137: -1, 138: 1, 139: -1, 140: -1, 141: -1, 142: -1, 143: 1, 144: 1, 145: -1, 146: -1, 147: -1, 148: 1, 149: -1, 150: -1}, energy=-8747.75, num_occurrences=1, chain_break_fraction=0.046357615894039736)"
      ]
     },
     "execution_count": 9,
     "metadata": {},
     "output_type": "execute_result"
    }
   ],
   "source": [
    "response2.first"
   ]
  },
  {
   "cell_type": "code",
   "execution_count": 14,
   "metadata": {},
   "outputs": [
    {
     "name": "stdout",
     "output_type": "stream",
     "text": [
      "{'solution': {0: 1, 1: 1, 2: -1, 3: -1, 4: 1, 5: 1, 6: 1, 7: -1, 8: -1, 9: 1, 10: -1, 11: -1, 12: 1, 13: -1, 14: -1, 15: 1, 16: -1, 17: 1, 18: -1, 19: 1, 20: -1, 21: -1, 22: 1, 23: 1, 24: -1, 25: -1, 26: 1, 27: -1, 28: 1, 29: -1, 30: -1, 31: 1, 32: -1, 33: -1, 34: 1, 35: -1, 36: 1, 37: 1, 38: -1, 39: -1, 40: -1, 41: -1, 42: 1, 43: 1, 44: 1, 45: -1, 46: -1, 47: -1, 48: -1, 49: -1, 50: -1, 51: 1, 52: -1, 53: -1, 54: 1, 55: -1, 56: 1, 57: -1, 58: 1, 59: -1, 60: 1, 61: -1, 62: 1, 63: -1, 64: -1, 65: -1, 66: 1, 67: -1, 68: 1, 69: -1, 70: 1, 71: -1, 72: -1, 73: -1, 74: -1, 75: -1, 76: 1, 77: -1, 78: 1, 79: -1, 80: -1, 81: -1, 82: 1, 83: -1, 84: 1, 85: 1, 86: -1, 87: -1, 88: 1, 89: -1, 90: -1, 91: -1, 92: -1, 93: 1, 94: 1, 95: 1, 96: -1, 97: -1, 98: -1, 99: 1, 100: -1, 101: 1, 102: 1, 103: -1, 104: -1, 105: 1, 106: 1, 107: -1, 108: -1, 109: -1, 110: 1, 111: 1, 112: 1, 113: 1, 114: -1, 115: -1, 116: -1, 117: -1, 118: 1, 119: -1, 120: -1, 121: 1, 122: -1, 123: 1, 124: 1, 125: -1, 126: -1, 127: -1, 128: -1, 129: 1, 130: -1, 131: 1, 132: -1, 133: 1, 134: -1, 135: 1, 136: -1, 137: -1, 138: 1, 139: -1, 140: -1, 141: -1, 142: -1, 143: 1, 144: 1, 145: -1, 146: -1, 147: -1, 148: 1, 149: -1, 150: -1}, 'energy': -8747.75, 'chain_break_fraction': 0.046357615894039736}\n"
     ]
    }
   ],
   "source": [
    "d = {'solution': response2.first.sample, 'energy': response2.first.energy, 'chain_break_fraction': response2.first.chain_break_fraction}\n",
    "print(d)"
   ]
  },
  {
   "cell_type": "code",
   "execution_count": 13,
   "metadata": {},
   "outputs": [
    {
     "data": {
      "text/plain": [
       "0.046357615894039736"
      ]
     },
     "execution_count": 13,
     "metadata": {},
     "output_type": "execute_result"
    }
   ],
   "source": [
    "response2.first.chain_break_fraction"
   ]
  },
  {
   "cell_type": "code",
   "execution_count": null,
   "metadata": {},
   "outputs": [],
   "source": []
  }
 ],
 "metadata": {
  "interpreter": {
   "hash": "7fe50e45861d646d87f8db73a1c019971d842817891d80b145d56744a8c41849"
  },
  "kernelspec": {
   "display_name": "Python 3.8.10 64-bit ('ocean': venv)",
   "name": "python3"
  },
  "language_info": {
   "codemirror_mode": {
    "name": "ipython",
    "version": 3
   },
   "file_extension": ".py",
   "mimetype": "text/x-python",
   "name": "python",
   "nbconvert_exporter": "python",
   "pygments_lexer": "ipython3",
   "version": "3.8.10"
  },
  "orig_nbformat": 4
 },
 "nbformat": 4,
 "nbformat_minor": 2
}
